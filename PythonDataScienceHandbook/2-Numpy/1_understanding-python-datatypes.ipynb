{
 "cells": [
  {
   "cell_type": "markdown",
   "metadata": {},
   "source": [
    "# Understanding Data Types in Python\n",
    "\n",
    "Effective data-driven science and computation requires understanding how data is stored and manipulated. This section outlines and contrasts how arrays of data are handled in the Python language itself, and how NumPy improves on this. Understanding this difference is fundamental to understanding much of the material throughout the rest of the book.\n",
    "\n",
    "Users of Python are often drawn in by its ease of use, one piece of which is **dynamic typing**. While a statically typed language like C or Java requires each variable to be explicitly declared, a dynamically typed language like Python skips this specification.\n",
    "\n",
    "For example, in C you might specify a particular operation as follows:\n",
    "\n",
    "```c\n",
    "/* C code */\n",
    "int result = 0;\n",
    "for(int i=0; i<100; i++){\n",
    "    result += i;\n",
    "}\n",
    "```\n",
    "\n",
    "While in Python the equivalent operation could be written this way:\n",
    "\n",
    "```python\n",
    "# Python code\n",
    "result = 0\n",
    "for i in range(100):\n",
    "    result += i\n",
    "```\n",
    "\n",
    "Notice the main difference: in C, the data types of each variable are explicitly declared, while in Python the types are dynamically inferred. This means, for example, that we can assign any kind of data to any variable:\n",
    "\n",
    "```python\n",
    "# Python code\n",
    "x = 4\n",
    "x = \"four\"\n",
    "```\n",
    "\n",
    "Here we've switched the contents of `x` from an integer to a string. The same thing in C would lead (depending on compiler settings) to a compilation error or other unintended consequences:\n",
    "\n",
    "```c\n",
    "/* C code */\n",
    "int x = 4;\n",
    "x = \"four\"; // FAILS\n",
    "```\n",
    "\n",
    "This sort of flexibility is one piece that makes Python and other dynamically typed languages convenient and easy to use. Understanding how this works is an important piece of learning to analyze data efficiently and effectively with Python. But what this type flexibility also points to is the fact that Python variables are more than just their value; they also contain extra information about the type of the value. We'll explore this more in the sections that follow.\n"
   ]
  },
  {
   "cell_type": "markdown",
   "metadata": {},
   "source": [
    "\n",
    "## A Python Integer Is More Than Just an Integer\n",
    "The standard Python implementation is written in C. This means every Python object is a C structure that contains not only its value but also other information. When you define an integer in Python, like `x = 10000`, `x` is not a \"raw\" integer. It's a pointer to a C structure that looks something like this:\n",
    "\n",
    "```c\n",
    "struct _longobject {\n",
    "    long ob_refcnt;       // Reference count for memory management\n",
    "    PyTypeObject *ob_type; // Encodes the type of the variable\n",
    "    size_t ob_size;       // Specifies the size of the data members\n",
    "    long ob_digit[1];     // The actual integer value\n",
    "};\n",
    "```\n",
    "\n",
    "![Visual example](./img/2-1.png)\n",
    "\n",
    "A single Python integer contains four pieces:\n",
    "*   `ob_refcnt`: A reference count that helps Python manage memory automatically.\n",
    "*   `ob_type`: Encodes the variable's data type.\n",
    "*   `ob_size`: Specifies the size of the following data members.\n",
    "*   `ob_digit`: Contains the actual integer value.\n",
    "\n",
    "This is fundamentally different from a C integer, which is just a label for a position in memory. A Python integer, by contrast, is a pointer to a memory location containing all the Python object information. This extra information enables Python's dynamic features but comes at a cost, especially when working with structures that combine many objects.\n",
    "\n",
    "The `PyObject_HEAD` part of the structure contains the reference count, type code, and other metadata. In essence, a C integer is a raw value in memory, whereas a Python integer is a pointer to an object that includes all the information needed for Python's dynamic typing. This design is what makes Python flexible, but it also introduces overhead, which becomes significant when dealing with large collections of objects.\n",
    "\n"
   ]
  },
  {
   "cell_type": "markdown",
   "metadata": {},
   "source": []
  }
 ],
 "metadata": {
  "language_info": {
   "name": "python"
  }
 },
 "nbformat": 4,
 "nbformat_minor": 2
}
